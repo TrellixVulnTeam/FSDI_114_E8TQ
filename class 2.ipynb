{
 "cells": [
  {
   "cell_type": "code",
   "execution_count": 8,
   "id": "b853fcd0",
   "metadata": {},
   "outputs": [],
   "source": [
    "class Stack:\n",
    "    def __init__(self):\n",
    "        self.items = []\n",
    "        \n",
    "    def is_empty(self):\n",
    "        return self.items == []\n",
    "    \n",
    "    def push(self, items):\n",
    "        self.items.append(items)\n",
    "        \n",
    "    def pop(self):\n",
    "        return self.items.pop()\n",
    "    \n",
    "    def peek(self):\n",
    "        return self.items[len(self.items)-1]\n",
    "    \n",
    "    def size(self):\n",
    "        return len(self.items)\n",
    "    "
   ]
  },
  {
   "cell_type": "code",
   "execution_count": 2,
   "id": "38cf6c53",
   "metadata": {},
   "outputs": [],
   "source": [
    "# given a string: \"abcde\", invert it so that we get \"edcba\"\n",
    "# constraint: must use the stack class above."
   ]
  },
  {
   "cell_type": "code",
   "execution_count": 9,
   "id": "83a9c63e",
   "metadata": {},
   "outputs": [
    {
     "name": "stdout",
     "output_type": "stream",
     "text": [
      "edcba\n"
     ]
    }
   ],
   "source": [
    "def invert_string(my_string):\n",
    "    stack = Stack()\n",
    "    for letter in my_string:\n",
    "        stack.push(letter)\n",
    "    out_str = \"\"\n",
    "    while not stack.is_empty():\n",
    "        #out_str = out_str + stack.pop\n",
    "        out_str += stack.pop()\n",
    "    return out_str\n",
    "\n",
    "print(invert_string(\"abcde\"))\n",
    "\n",
    "        "
   ]
  },
  {
   "cell_type": "code",
   "execution_count": null,
   "id": "d2429aa2",
   "metadata": {},
   "outputs": [],
   "source": [
    "class Queue:\n",
    "    def __init__(self):\n",
    "        self.items = []\n",
    "    \n",
    "    def is empty(self):\n",
    "        return self.items == []\n",
    "    \n",
    "    def enqueue(self, item):\n",
    "        self.items.insert(0, item)\n",
    "        \n",
    "    def dequeue(self):\n",
    "        return self.items.pop()\n",
    "    \n",
    "    def size(self):\n",
    "        return len(self.items)"
   ]
  }
 ],
 "metadata": {
  "kernelspec": {
   "display_name": "Python 3 (ipykernel)",
   "language": "python",
   "name": "python3"
  },
  "language_info": {
   "codemirror_mode": {
    "name": "ipython",
    "version": 3
   },
   "file_extension": ".py",
   "mimetype": "text/x-python",
   "name": "python",
   "nbconvert_exporter": "python",
   "pygments_lexer": "ipython3",
   "version": "3.10.1"
  }
 },
 "nbformat": 4,
 "nbformat_minor": 5
}
