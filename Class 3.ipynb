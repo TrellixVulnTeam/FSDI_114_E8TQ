{
 "cells": [
  {
   "cell_type": "markdown",
   "id": "27cc878d",
   "metadata": {},
   "source": [
    "# Balanced parentheses check\n",
    "Given a string of opening and closign parentheses, check whether it is balanced.\n",
    "We have 3 types of parantheses square `[]`, round (), and curly  {}\n",
    "\n",
    "Assumptions: Parameter string doesn't contain any other characters other than these (no space, words or numbers)\n",
    "Balanced parentheses require every opening para to be closed in the reverse order opened.\n",
    "\n",
    "# EX: ([]) is balanced, ([)]\n",
    "\n",
    "## instructions:\n",
    "create function called balance_check that takes parameter \"s\"\n",
    "balance_check(\"()\") should return true "
   ]
  },
  {
   "cell_type": "code",
   "execution_count": 1,
   "id": "87b499fa",
   "metadata": {},
   "outputs": [],
   "source": [
    "## Pseudo code to solve this problem:\n",
    "# define function \"balance_check\" with parameters: s (string):\n",
    "#  string_length = length_of(s)\n",
    "#   if string_length has an odd number of characters:\n",
    "#        return false \n",
    "#   else \n",
    "#       if the first character is an opening parentheses .....\n",
    "#   valid_matches = [(\"(\", \")\"), (\"[\", \"]\"),(\"{\", \"}\")]\n",
    "#   stack = new stack() # create an instance of Stack()\n",
    "#  for each character in s:\n",
    "#    if the characeter is an opening parentheses:\n",
    "#          stack.push(character)\n",
    "#    else:\n",
    "#       last_parentheses = stack.pop()\n",
    "#    if (last_parenthes, character) not in vlaid_mathces:\n",
    "#             return false\n",
    "#     return True if stack is empty, False other wise\n",
    "class Stack:\n",
    "    def __init__(self):\n",
    "        self.items = []\n",
    "        \n",
    "    def is_empty(self):\n",
    "        return self.items == []\n",
    "    \n",
    "    def push(self, items):\n",
    "        self.items.append(items)\n",
    "        \n",
    "    def pop(self):\n",
    "        return self.items.pop()\n",
    "    \n",
    "    def peek(self):\n",
    "        return self.items[len(self.items)-1]\n",
    "    \n",
    "    def size(self):\n",
    "        return len(self.items)\n",
    "    \n",
    "def balance_check(s):\n",
    "    pass"
   ]
  },
  {
   "cell_type": "code",
   "execution_count": 2,
   "id": "95c80a90",
   "metadata": {},
   "outputs": [
    {
     "ename": "AssertionError",
     "evalue": "",
     "output_type": "error",
     "traceback": [
      "\u001b[0;31m---------------------------------------------------------------------------\u001b[0m",
      "\u001b[0;31mAssertionError\u001b[0m                            Traceback (most recent call last)",
      "Input \u001b[0;32mIn [2]\u001b[0m, in \u001b[0;36m<cell line: 1>\u001b[0;34m()\u001b[0m\n\u001b[0;32m----> 1\u001b[0m \u001b[38;5;28;01massert\u001b[39;00m balance_check(\u001b[38;5;124m\"\u001b[39m\u001b[38;5;124m([\u001b[39m\u001b[38;5;124m{\u001b[39m\u001b[38;5;124m([(\u001b[39m\u001b[38;5;132;01m{}\u001b[39;00m\u001b[38;5;124m)])}])\u001b[39m\u001b[38;5;124m\"\u001b[39m) \u001b[38;5;241m==\u001b[39m \u001b[38;5;28;01mTrue\u001b[39;00m\n\u001b[1;32m      2\u001b[0m \u001b[38;5;28;01massert\u001b[39;00m balance_check(\u001b[38;5;124m\"\u001b[39m\u001b[38;5;124m((((((())))))))\u001b[39m\u001b[38;5;124m\"\u001b[39m) \u001b[38;5;241m==\u001b[39m \u001b[38;5;28;01mFalse\u001b[39;00m\n\u001b[1;32m      3\u001b[0m \u001b[38;5;28;01massert\u001b[39;00m balance_check(\u001b[38;5;124m\"\u001b[39m\u001b[38;5;124m()()()[][]\u001b[39m\u001b[38;5;124m{\u001b[39m\u001b[38;5;124m(([]))}\u001b[39m\u001b[38;5;124m\"\u001b[39m) \u001b[38;5;241m==\u001b[39m \u001b[38;5;28;01mTrue\u001b[39;00m\n",
      "\u001b[0;31mAssertionError\u001b[0m: "
     ]
    }
   ],
   "source": [
    "assert balance_check(\"([{([({})])}])\") == True\n",
    "assert balance_check(\"((((((())))))))\") == False\n",
    "assert balance_check(\"()()()[][]{(([]))}\") == True"
   ]
  },
  {
   "cell_type": "markdown",
   "id": "3425c63a",
   "metadata": {},
   "source": [
    "## Queue 2 stacks\n",
    "### Using stacks create a queue\n",
    "## Stacks are LIFO. Queues are FIFO"
   ]
  }
 ],
 "metadata": {
  "kernelspec": {
   "display_name": "Python 3 (ipykernel)",
   "language": "python",
   "name": "python3"
  },
  "language_info": {
   "codemirror_mode": {
    "name": "ipython",
    "version": 3
   },
   "file_extension": ".py",
   "mimetype": "text/x-python",
   "name": "python",
   "nbconvert_exporter": "python",
   "pygments_lexer": "ipython3",
   "version": "3.10.1"
  }
 },
 "nbformat": 4,
 "nbformat_minor": 5
}
