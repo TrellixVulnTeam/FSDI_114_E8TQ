{
 "cells": [
  {
   "cell_type": "markdown",
   "id": "27cc878d",
   "metadata": {},
   "source": [
    "# Balanced parentheses check\n",
    "Given a string of opening and closign parentheses, check whether it is balanced.\n",
    "We have 3 types of parantheses square `[]`, round (), and curly  {}\n",
    "\n",
    "Assumptions: Parameter string doesn't contain any other characters other than these (no space, words or numbers)\n",
    "Balanced parentheses require every opening para to be closed in the reverse order opened.\n",
    "\n",
    "# EX: ([]) is balanced, ([)]\n",
    "\n",
    "## instructions:\n",
    "create function called balance_check that takes parameter \"s\"\n",
    "balance_check(\"()\") should return true "
   ]
  },
  {
   "cell_type": "code",
   "execution_count": 32,
   "id": "87b499fa",
   "metadata": {},
   "outputs": [],
   "source": [
    "## Pseudo code to solve this problem:\n",
    "# define function \"balance_check\" with parameters: s (string):\n",
    "#  string_length = length_of(s)\n",
    "#   if string_length has an odd number of characters:\n",
    "#        return false \n",
    "#   else \n",
    "#       if the first character is an opening parentheses .....\n",
    "#   valid_matches = [(\"(\", \")\"), (\"[\", \"]\"),(\"{\", \"}\")]\n",
    "#   stack = new stack() # create an instance of Stack()\n",
    "#  for each character in s:\n",
    "#    if the characeter is an opening parentheses:\n",
    "#          stack.push(character)\n",
    "#    else:\n",
    "#       last_parentheses = stack.pop()\n",
    "#    if (last_parenthes, character) not in vlaid_mathces:\n",
    "#             return false\n",
    "#     return True if stack is empty, False other wise\n",
    "class Stack:\n",
    "    def __init__(self):\n",
    "        self.items = []\n",
    "        \n",
    "    def is_empty(self):\n",
    "        return self.items == []\n",
    "    \n",
    "    def push(self, items):\n",
    "        self.items.append(items)\n",
    "        \n",
    "    def pop(self):\n",
    "        return self.items.pop()\n",
    "    \n",
    "    def peek(self):\n",
    "        return self.items[len(self.items)-1]\n",
    "    \n",
    "    def size(self):\n",
    "        return len(self.items)\n",
    "    \n",
    "def balance_check(s):\n",
    "    pass\n",
    "\n",
    "def balance_check(s):\n",
    "    if len(s) % 2 != 0:\n",
    "        return False\n",
    "    stack = Stack ()\n",
    "    open_paren = set(\"([{\")\n",
    "    valid_matches = set(\n",
    "        [(\"(\", \")\"),\n",
    "         (\"[\", \"]\"),\n",
    "         (\"{\", \"}\"),\n",
    "        ])\n",
    "    for character in s:\n",
    "        if character in open_paren:\n",
    "            stack.push(character)\n",
    "        else:\n",
    "            if stack.is_empty():\n",
    "                return False\n",
    "            last_open = stack.pop()\n",
    "            if (last_open, character) not in valid_matches:\n",
    "                return False\n",
    "    return stack.is_empty()"
   ]
  },
  {
   "cell_type": "code",
   "execution_count": 33,
   "id": "95c80a90",
   "metadata": {},
   "outputs": [
    {
     "name": "stdout",
     "output_type": "stream",
     "text": [
      "Test OK!\n"
     ]
    }
   ],
   "source": [
    "try:\n",
    "    assert balance_check(\"([{([({})])}])\") == True\n",
    "    assert balance_check(\"((((((())))))))\") == False\n",
    "    assert balance_check(\"()()()[][]{(([]))}\") == True\n",
    "    print(\"Test OK!\")\n",
    "except AssertionError as assert_err:\n",
    "    print(assert_err)\n"
   ]
  },
  {
   "cell_type": "markdown",
   "id": "3425c63a",
   "metadata": {},
   "source": [
    "## Queue 2 stacks\n",
    "### Using stacks create a queue\n",
    "## Stacks are LIFO. Queues are FIFO"
   ]
  },
  {
   "cell_type": "code",
   "execution_count": 27,
   "id": "bc02a640",
   "metadata": {},
   "outputs": [],
   "source": [
    "class Queue2Stacks:\n",
    "    def __init__(self):\n",
    "        self.in_stack = []\n",
    "        self.out_stack = []\n",
    "        \n",
    "    def enqueue(self,item):\n",
    "        self.in_stack.append(item)\n",
    "        \n",
    "    def dequeue(self):\n",
    "        if not self.out_stack:\n",
    "            while self.in_stack:\n",
    "                item = self.in_stack.pop()\n",
    "                self.out_stack.append(item)\n",
    "        return self.out_stack.pop()\n",
    "    \n",
    "def test_queue2stacks():\n",
    "    queue = Queue2Stacks()\n",
    "    for i in range(5):\n",
    "        print(\"Adding %s to the queue.\" % i)\n",
    "        queue.enqueue(i)\n",
    "    for i in range(5):\n",
    "        current = queue.dequeue()\n",
    "        assert current == i\n",
    "        print(\"Got %s from queue which meets requirements.\" % current)\n",
    "    \n",
    "    print(\"OK\")"
   ]
  },
  {
   "cell_type": "code",
   "execution_count": 28,
   "id": "b177d5b9",
   "metadata": {},
   "outputs": [
    {
     "name": "stdout",
     "output_type": "stream",
     "text": [
      "Adding 0 to the queue.\n",
      "Adding 1 to the queue.\n",
      "Adding 2 to the queue.\n",
      "Adding 3 to the queue.\n",
      "Adding 4 to the queue.\n",
      "Got 0 from queue which meets requirements.\n",
      "Got 1 from queue which meets requirements.\n",
      "Got 2 from queue which meets requirements.\n",
      "Got 3 from queue which meets requirements.\n",
      "Got 4 from queue which meets requirements.\n",
      "OK\n"
     ]
    }
   ],
   "source": [
    "test_queue2stacks()"
   ]
  },
  {
   "cell_type": "code",
   "execution_count": null,
   "id": "fe052389",
   "metadata": {},
   "outputs": [],
   "source": []
  }
 ],
 "metadata": {
  "kernelspec": {
   "display_name": "Python 3 (ipykernel)",
   "language": "python",
   "name": "python3"
  },
  "language_info": {
   "codemirror_mode": {
    "name": "ipython",
    "version": 3
   },
   "file_extension": ".py",
   "mimetype": "text/x-python",
   "name": "python",
   "nbconvert_exporter": "python",
   "pygments_lexer": "ipython3",
   "version": "3.10.1"
  }
 },
 "nbformat": 4,
 "nbformat_minor": 5
}
