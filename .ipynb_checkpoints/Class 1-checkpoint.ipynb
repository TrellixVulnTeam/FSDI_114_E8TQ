{
 "cells": [
  {
   "cell_type": "code",
   "execution_count": 6,
   "id": "65280162",
   "metadata": {},
   "outputs": [
    {
     "name": "stdout",
     "output_type": "stream",
     "text": [
      "h\n",
      "e\n",
      "l\n",
      "l\n",
      "o\n",
      ",\n",
      " \n",
      "w\n",
      "o\n",
      "r\n",
      "l\n",
      "d\n"
     ]
    }
   ],
   "source": [
    "for letter in \"hello, world\":\n",
    "    print(letter)"
   ]
  },
  {
   "cell_type": "markdown",
   "id": "38d99027",
   "metadata": {},
   "source": [
    "# Cars vs Scar<-problem\n",
    "# CARS vs SCAR<-no problem\n",
    "# cars vs scar<-no problem\n"
   ]
  },
  {
   "cell_type": "code",
   "execution_count": 13,
   "id": "55740a07",
   "metadata": {},
   "outputs": [],
   "source": [
    "# define function \"is_anagram\" <- parameters: string_a, string_b\n",
    "#if the length of string_a is not equal to the length of string_b; then\n",
    "#      return fals\n",
    "# string_a = lowercase(string_a)\n",
    "# string_b = lowercase(string_b)\n",
    "# char_list_a = list()\n",
    "# loop through every characeter in string_a and store value temporarily in \"char_a\":\n",
    "#       char_list.append(char_a)#(append char_a to char_list_a)\n",
    "# loop through every character in string_b and store value temporarily in \"char_b\"\"\n",
    "#      append char_b to char_list_b\n",
    "\n",
    "# Home work!!\n",
    "# string_a = uppercase string_a\n",
    "#string_b = uppercase string_b\n",
    "# compare string_a to string_b \n",
    "#    compare lengths of string_a to string_b \n",
    "#      if string_a length does not equal string_b length then they are not anagrams return (0)\n",
    "# compare string_a order to string_b order\n",
    "# set order for string_a = string_ a then set string_b = string_b\n",
    "#     if letter ordering for string_a to string b do not match then this is not anagram return(0)\n",
    "#   else return (1)\n",
    "# run code to return \n",
    "# string_a = test\n",
    "# string_b = ttest\n",
    " #if string_a and string_b are an anagram pring are anagram \n",
    " #else print they are not anagram "
   ]
  },
  {
   "cell_type": "code",
   "execution_count": 19,
   "id": "60eea920",
   "metadata": {},
   "outputs": [
    {
     "name": "stdout",
     "output_type": "stream",
     "text": [
      "The two strings are anagram of each other\n"
     ]
    }
   ],
   "source": [
    "def areAnagram(str_a, str_b):\n",
    "    # Get lengths of both strings\n",
    "    n1 = len(str_a)\n",
    "    n2 = len(str_b)\n",
    " \n",
    "    # If length of both strings is not same, then\n",
    "    # they cannot be anagram\n",
    "    if n1 != n2:\n",
    "        return 0\n",
    " \n",
    "    # Sort both strings\n",
    "    str_a = sorted(str_a)\n",
    "    str_b = sorted(str_b)\n",
    " \n",
    "    # Compare sorted strings\n",
    "    for i in range(0, n1):\n",
    "        if str_a[i] != str_b[i]:\n",
    "            return 0\n",
    " \n",
    "    return 1\n",
    " \n",
    "#test code \n",
    "str_a = \"test\"\n",
    "str_b = \"ttew\"\n",
    " \n",
    "# Function Call\n",
    "if areAnagram(str_a, str_b):\n",
    "    print(\"The two strings are anagram of each other\")\n",
    "else:\n",
    "    print(\"The two strings are not anagram of each other\")\n"
   ]
  },
  {
   "cell_type": "code",
   "execution_count": 14,
   "id": "6319b532",
   "metadata": {},
   "outputs": [
    {
     "name": "stdout",
     "output_type": "stream",
     "text": [
      "65\n",
      "A\n"
     ]
    }
   ],
   "source": [
    "char_num = ord('A')\n",
    "print(char_num)\n",
    "\n",
    "print(chr(char_num))\n",
    "\n",
    "# convert  string_a to uppercase\n",
    "# conver string_b to uppercase"
   ]
  },
  {
   "cell_type": "code",
   "execution_count": null,
   "id": "75d74cf3",
   "metadata": {},
   "outputs": [],
   "source": []
  }
 ],
 "metadata": {
  "kernelspec": {
   "display_name": "Python 3 (ipykernel)",
   "language": "python",
   "name": "python3"
  },
  "language_info": {
   "codemirror_mode": {
    "name": "ipython",
    "version": 3
   },
   "file_extension": ".py",
   "mimetype": "text/x-python",
   "name": "python",
   "nbconvert_exporter": "python",
   "pygments_lexer": "ipython3",
   "version": "3.10.1"
  }
 },
 "nbformat": 4,
 "nbformat_minor": 5
}
