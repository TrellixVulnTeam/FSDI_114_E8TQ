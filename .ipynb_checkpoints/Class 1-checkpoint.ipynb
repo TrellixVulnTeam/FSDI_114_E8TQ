{
 "cells": [
  {
   "cell_type": "code",
   "execution_count": 6,
   "id": "65280162",
   "metadata": {},
   "outputs": [
    {
     "name": "stdout",
     "output_type": "stream",
     "text": [
      "h\n",
      "e\n",
      "l\n",
      "l\n",
      "o\n",
      ",\n",
      " \n",
      "w\n",
      "o\n",
      "r\n",
      "l\n",
      "d\n"
     ]
    }
   ],
   "source": [
    "for letter in \"hello, world\":\n",
    "    print(letter)"
   ]
  },
  {
   "cell_type": "markdown",
   "id": "38d99027",
   "metadata": {},
   "source": [
    "# Cars vs Scar<-problem\n",
    "# CARS vs SCAR<-no problem\n",
    "# cars vs scar<-no problem\n"
   ]
  },
  {
   "cell_type": "code",
   "execution_count": 13,
   "id": "55740a07",
   "metadata": {},
   "outputs": [],
   "source": [
    "# define function \"is_anagram\" <- parameters: string_a, string_b\n",
    "#if the length of string_a is not equal to the length of string_b; then\n",
    "#      return fals\n",
    "# string_a = lowercase(string_a)\n",
    "# string_b = lowercase(string_b)\n",
    "# char_list_a = list()\n",
    "# loop through every characeter in string_a and store value temporarily in \"char_a\":\n",
    "#       char_list.append(char_a)#(append char_a to char_list_a)\n",
    "# loop through every character in string_b and store value temporarily in \"char_b\"\"\n",
    "#      append char_b to char_list_b\n",
    "\n",
    "# Home work!!\n",
    "# string_a = uppercase string_a\n",
    "#string_b = uppercase string_b\n",
    "# compare string_a to string_b \n",
    "#    compare lengths of string_a to string_b \n",
    "#      if string_a length does not equal string_b length then they are not anagrams return (0)\n",
    "# compare string_a order to string_b order\n",
    "# set order for string_a = string_ a then set string_b = string_b\n",
    "#     if letter ordering for string_a to string b do not match then this is not anagram return(0)\n",
    "#   else return (1)\n",
    "# run code to return \n",
    "# string_a = test\n",
    "# string_b = ttest\n",
    " #if string_a and string_b are an anagram pring are anagram \n",
    " #else print they are not anagram "
   ]
  },
  {
   "cell_type": "code",
   "execution_count": 18,
   "id": "60eea920",
   "metadata": {},
   "outputs": [],
   "source": [
    "def is_anagram(str_a, str_b):\n",
    "    str_a = [char_a.lower() for char_a in str_a if char_a !=\"\"]\n",
    "    str_b = [char_b.lower() for char_b in str_b if char_b !=\"\"]\n",
    "    if len(str_a) != len(str_b):\n",
    "        return False\n",
    "    \n",
    "    char_times_a = dict()\n",
    "    char_times_b = dict()\n",
    "    for i in range(len(str_a)):\n",
    "        if str_a[i] not in char_times_a.keys():\n",
    "            char_times_a[str_a[i]]= 0\n",
    "        else:\n",
    "            char_times_a[str_a[i]] +1\n",
    "        if str_b[i] not in char_times_b.keys():\n",
    "            char_times_b[str_b[i]]= 0\n",
    "        else:\n",
    "            char_times_b[str_b[i]]= 1\n",
    "    return char_times_a == char_times_b\n",
    "    \n"
   ]
  },
  {
   "cell_type": "code",
   "execution_count": 19,
   "id": "75d74cf3",
   "metadata": {},
   "outputs": [
    {
     "data": {
      "text/plain": [
       "True"
      ]
     },
     "execution_count": 19,
     "metadata": {},
     "output_type": "execute_result"
    }
   ],
   "source": [
    "is_anagram(\"scar\", \"cars\")\n",
    "\n"
   ]
  },
  {
   "cell_type": "code",
   "execution_count": 20,
   "id": "6319b532",
   "metadata": {},
   "outputs": [
    {
     "data": {
      "text/plain": [
       "False"
      ]
     },
     "execution_count": 20,
     "metadata": {},
     "output_type": "execute_result"
    }
   ],
   "source": [
    "is_anagram(\"I am lord voldermort\", \"Tom Marvolo Riddle\")\n"
   ]
  },
  {
   "cell_type": "code",
   "execution_count": null,
   "id": "fe02c727",
   "metadata": {},
   "outputs": [],
   "source": []
  }
 ],
 "metadata": {
  "kernelspec": {
   "display_name": "Python 3 (ipykernel)",
   "language": "python",
   "name": "python3"
  },
  "language_info": {
   "codemirror_mode": {
    "name": "ipython",
    "version": 3
   },
   "file_extension": ".py",
   "mimetype": "text/x-python",
   "name": "python",
   "nbconvert_exporter": "python",
   "pygments_lexer": "ipython3",
   "version": "3.10.1"
  }
 },
 "nbformat": 4,
 "nbformat_minor": 5
}
