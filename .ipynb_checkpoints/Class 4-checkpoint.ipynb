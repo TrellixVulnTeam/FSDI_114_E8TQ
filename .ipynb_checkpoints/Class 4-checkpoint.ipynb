{
 "cells": [
  {
   "cell_type": "code",
   "execution_count": 2,
   "id": "6e1851e1",
   "metadata": {},
   "outputs": [],
   "source": [
    "# recursive factorial:\n",
    "\n",
    "def fact(n):\n",
    "    if n == 0:\n",
    "        return 1\n",
    "    return n*fact(n-1)\n"
   ]
  },
  {
   "cell_type": "code",
   "execution_count": 5,
   "id": "44b5727e",
   "metadata": {},
   "outputs": [],
   "source": [
    "from functools import lru_cache\n",
    "\n",
    "\n",
    "@lru_cache\n",
    "def fib(n):\n",
    "    if n < 2:\n",
    "        return n \n",
    "    return fib(n-1) + fib(n-2)"
   ]
  },
  {
   "cell_type": "code",
   "execution_count": 6,
   "id": "8d56b5df",
   "metadata": {},
   "outputs": [
    {
     "data": {
      "text/plain": [
       "6765"
      ]
     },
     "execution_count": 6,
     "metadata": {},
     "output_type": "execute_result"
    }
   ],
   "source": [
    "fib(20)"
   ]
  },
  {
   "cell_type": "code",
   "execution_count": 7,
   "id": "8942769d",
   "metadata": {},
   "outputs": [
    {
     "data": {
      "text/plain": [
       "354224848179261915075"
      ]
     },
     "execution_count": 7,
     "metadata": {},
     "output_type": "execute_result"
    }
   ],
   "source": [
    "fib(100)"
   ]
  },
  {
   "cell_type": "code",
   "execution_count": 13,
   "id": "0c1f1609",
   "metadata": {},
   "outputs": [],
   "source": [
    "for i in range(1000, 10000, 500):\n",
    "    fib(i)"
   ]
  },
  {
   "cell_type": "code",
   "execution_count": 14,
   "id": "dd43f38a",
   "metadata": {},
   "outputs": [
    {
     "name": "stdout",
     "output_type": "stream",
     "text": [
      "33644764876431783266621612005107543310302148460680063906564769974680081442166662368155595513633734025582065332680836159373734790483865268263040892463056431887354544369559827491606602099884183933864652731300088830269235673613135117579297437854413752130520504347701602264758318906527890855154366159582987279682987510631200575428783453215515103870818298969791613127856265033195487140214287532698187962046936097879900350962302291026368131493195275630227837628441540360584402572114334961180023091208287046088923962328835461505776583271252546093591128203925285393434620904245248929403901706233888991085841065183173360437470737908552631764325733993712871937587746897479926305837065742830161637408969178426378624212835258112820516370298089332099905707920064367426202389783111470054074998459250360633560933883831923386783056136435351892133279732908133732642652633989763922723407882928177953580570993691049175470808931841056146322338217465637321248226383092103297701648054726243842374862411453093812206564914032751086643394517512161526545361333111314042436854805106765843493523836959653428071768775328348234345557366719731392746273629108210679280784718035329131176778924659089938635459327894523777674406192240337638674004021330343297496902028328145933418826817683893072003634795623117103101291953169794607632737589253530772552375943788434504067715555779056450443016640119462580972216729758615026968443146952034614932291105970676243268515992834709891284706740862008587135016260312071903172086094081298321581077282076353186624611278245537208532365305775956430072517744315051539600905168603220349163222640885248852433158051534849622434848299380905070483482449327453732624567755879089187190803662058009594743150052402532709746995318770724376825907419939632265984147498193609285223945039707165443156421328157688908058783183404917434556270520223564846495196112460268313970975069382648706613264507665074611512677522748621598642530711298441182622661057163515069260029861704945425047491378115154139941550671256271197133252763631939606902895650288268608362241082050562430701794976171121233066073310059947366875\n"
     ]
    }
   ],
   "source": [
    "print(fib(10000))"
   ]
  },
  {
   "cell_type": "code",
   "execution_count": null,
   "id": "d953f4d2",
   "metadata": {},
   "outputs": [],
   "source": [
    "# covnert these recursive functions to iterative functions (meaning, instead of recursing, use looping)"
   ]
  },
  {
   "cell_type": "code",
   "execution_count": 7,
   "id": "4e845168",
   "metadata": {},
   "outputs": [],
   "source": [
    "class HashTable:\n",
    "    def __init__(self, size):\n",
    "        # Setting up size, slots and data.\n",
    "        self.size = size\n",
    "        self.slots = [None] * self.size\n",
    "        self.data = [None] * self.size\n",
    "\n",
    "    # We're only using integer values for \"key\".\n",
    "    def put(self, key, data):\n",
    "        # calculating hashvalue\n",
    "        hashvalue = self.hashfunction(key, len(self.slots))\n",
    "        print(\"Storing with hashvalue: %s\" % hashvalue)\n",
    "        # Checking if the slot at that index is empty\n",
    "        if self.slots[hashvalue] == None:\n",
    "            self.slots[hashvalue] = key\n",
    "            self.data[hashvalue] = data\n",
    "            print(\"Stored: %s with key: %s\" % (key, data))\n",
    "        else:\n",
    "            # If key already exists, replace old value\n",
    "            if self.slots[hashvalue] == key:\n",
    "                self.data[hashvalue] = data\n",
    "                print(\"Stored: %s with key: %s\" % (key, data))\n",
    "            else:\n",
    "                # Otherwise: find the next available slot\n",
    "                nextslot = self.rehash(hashvalue, len(self.slots))\n",
    "                while self.slots[nextslot] != None and self.slots[nextslot] != key:\n",
    "                    nextslot = self.rehash(nextslot, len(self.slots))\n",
    "                if self.slots[nextslot] == None:\n",
    "                    self.slots[nextslot] = key\n",
    "                    self.data[nextslot] = data\n",
    "                    print(\"Stored: %s with key: %s\" % (key, data))\n",
    "                else:\n",
    "                    self.data[nextslot] = data\n",
    "                    print(\"Stored: %s with key: %s\" % (key, data))\n",
    "            \n",
    "            \n",
    "    def hashfunction(self, key, size):\n",
    "        return key%size\n",
    "\n",
    "    def rehash(self, oldhash, size):\n",
    "        return (oldhash+1)%size\n",
    "\n",
    "    def get(self, key):\n",
    "        startslot = self.hashfunction(key, len(self.slots))\n",
    "        data = None\n",
    "        stop = False\n",
    "        found = False\n",
    "        position = startslot\n",
    "        while self.slots[position] != None and not found and not stop:\n",
    "            if self.slots[position] == key:\n",
    "                found = True\n",
    "                data = self.data[position]\n",
    "                print(\"Found key at position: %s with data: %s\" % (position, data))\n",
    "            else:\n",
    "                position = self.rehash(position, len(self.slots))\n",
    "                if position == startslot:\n",
    "                    stop = True\n",
    "        return data\n",
    "\n",
    "    def __getitem__(self, key):\n",
    "        return self.get(key)\n",
    "\n",
    "    def __setitem__(self, key, data):\n",
    "        self.put(key, data)\n",
    "\n",
    "    def print_table(self):\n",
    "        for i in range(self.size):\n",
    "            print(\" %s -> %s\" % (self.slots[i], self.data[i]))"
   ]
  },
  {
   "cell_type": "code",
   "execution_count": 8,
   "id": "dd8565e0",
   "metadata": {},
   "outputs": [
    {
     "name": "stdout",
     "output_type": "stream",
     "text": [
      "Storing with hashvalue: 1\n",
      "Stored: 1 with key: 0\n",
      "Storing with hashvalue: 2\n",
      "Stored: 2 with key: 1\n",
      "Storing with hashvalue: 3\n",
      "Stored: 3 with key: 1\n",
      "Storing with hashvalue: 4\n",
      "Stored: 4 with key: 2\n",
      "Storing with hashvalue: 5\n",
      "Stored: 5 with key: 5\n",
      "Storing with hashvalue: 6\n",
      "Stored: 6 with key: 8\n",
      "Storing with hashvalue: 7\n",
      "Stored: 7 with key: 13\n",
      "Storing with hashvalue: 8\n",
      "Stored: 8 with key: 21\n",
      " None -> None\n",
      " 1 -> 0\n",
      " 2 -> 1\n",
      " 3 -> 1\n",
      " 4 -> 2\n",
      " 5 -> 5\n",
      " 6 -> 8\n",
      " 7 -> 13\n",
      " 8 -> 21\n",
      " None -> None\n",
      " None -> None\n",
      "Found key at position: 8 with data: 21\n",
      "21\n"
     ]
    }
   ],
   "source": [
    "ht = HashTable(11)\n",
    "values = [0, 1, 1, 2, 5, 8, 13, 21]\n",
    "\n",
    "def load_hashtable():\n",
    "    for i in range(8):\n",
    "        ht.put(i+1, values[i])\n",
    " \n",
    "load_hashtable()\n",
    "ht.print_table()\n",
    "print(ht.get(8))\n",
    "    "
   ]
  },
  {
   "cell_type": "code",
   "execution_count": null,
   "id": "26bcc19e",
   "metadata": {},
   "outputs": [],
   "source": []
  },
  {
   "cell_type": "code",
   "execution_count": 9,
   "id": "9a7d199d",
   "metadata": {},
   "outputs": [],
   "source": [
    "class Node:\n",
    "    def __init__(self, data):\n",
    "        self.data = data\n",
    "        self.next = None "
   ]
  },
  {
   "cell_type": "code",
   "execution_count": 10,
   "id": "e35bc230",
   "metadata": {},
   "outputs": [
    {
     "name": "stdout",
     "output_type": "stream",
     "text": [
      "10\n",
      "11\n",
      "12\n"
     ]
    }
   ],
   "source": [
    "node1 = Node(10)\n",
    "node2 = Node(11)\n",
    "node3 = Node(12)\n",
    "\n",
    "node1.next = node2\n",
    "node2.next = node3\n",
    "\n",
    "current = node1 \n",
    "while current != None:\n",
    "    print(current.data)\n",
    "    current = current.next\n",
    "    \n",
    "    "
   ]
  },
  {
   "cell_type": "code",
   "execution_count": 14,
   "id": "b5e49b30",
   "metadata": {},
   "outputs": [],
   "source": [
    "class SinglyLinkedList:\n",
    "    def __init__(self):\n",
    "        self.head = None\n",
    "\n",
    "    def append(self, value):\n",
    "        current = self.head\n",
    "        if not current:\n",
    "            self.head = Node(value)\n",
    "        else:\n",
    "            while current.next:\n",
    "                current = current.next\n",
    "            current.next = Node(value)\n",
    "\n",
    "    def insert(self, prev_index, value):\n",
    "        if prev_index == 0:\n",
    "            new_node = Node(value)\n",
    "            current_head = self.head\n",
    "            new_node.next = current_head\n",
    "            self.head = new_node\n",
    "        else:\n",
    "            current = self.head\n",
    "            counter = 0\n",
    "            while prev_index != counter and current:\n",
    "                prev_node = current\n",
    "                current = current.next\n",
    "            if prev_index == counter:\n",
    "                prev_node.next = Node(value)\n",
    "                prev_node.next.next = current\n",
    "                \n",
    "\n",
    "    def __str__(self):\n",
    "        current = self.head\n",
    "        out_str = \"[%s\" % current.data\n",
    "        while current.next:\n",
    "            current = current.next\n",
    "            out_str += \", %s\" % current.data\n",
    "        out_str += \"]\"\n",
    "        return out_str\n",
    "    \n"
   ]
  },
  {
   "cell_type": "code",
   "execution_count": 15,
   "id": "3eeb24fd",
   "metadata": {},
   "outputs": [
    {
     "name": "stdout",
     "output_type": "stream",
     "text": [
      "[[1, 2, 3, 4]]\n",
      "[9, 8, 7, 6, 5, 4, 3, 2, 1, 0]\n"
     ]
    }
   ],
   "source": [
    "sll = SinglyLinkedList()\n",
    "\n",
    "for i in range(10):\n",
    "    sll.insert(0, i)\n",
    "\n",
    "pylist = [1, 2, 3, 4]\n",
    "print([pylist])\n",
    "\n",
    "print(sll)"
   ]
  },
  {
   "cell_type": "code",
   "execution_count": 18,
   "id": "48d83a94",
   "metadata": {},
   "outputs": [],
   "source": [
    "class DNode:\n",
    "    def __init__(self, data):\n",
    "        self.data = data\n",
    "        self.next = None\n",
    "        self.prev = None"
   ]
  },
  {
   "cell_type": "code",
   "execution_count": null,
   "id": "66ea3243",
   "metadata": {},
   "outputs": [],
   "source": []
  },
  {
   "cell_type": "code",
   "execution_count": null,
   "id": "a27565b7",
   "metadata": {},
   "outputs": [],
   "source": []
  }
 ],
 "metadata": {
  "kernelspec": {
   "display_name": "Python 3 (ipykernel)",
   "language": "python",
   "name": "python3"
  },
  "language_info": {
   "codemirror_mode": {
    "name": "ipython",
    "version": 3
   },
   "file_extension": ".py",
   "mimetype": "text/x-python",
   "name": "python",
   "nbconvert_exporter": "python",
   "pygments_lexer": "ipython3",
   "version": "3.10.1"
  }
 },
 "nbformat": 4,
 "nbformat_minor": 5
}
